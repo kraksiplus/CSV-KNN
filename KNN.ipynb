{
 "cells": [
  {
   "metadata": {},
   "cell_type": "markdown",
   "source": [
    "Proyecto KNN\n",
    "\n",
    "\n",
    "El presente documento detalla todos los pasos en la ejecucion del algoritmo KNN para la completación de datos del tema *PONER TEMA*.\n",
    "\n",
    "Para esto se hará uso de la libreria Scikit-Learn, numpy, pandas, mathplotlib, entre otras.\n",
    "  "
   ],
   "id": "5f6e95f797b3eefe"
  },
  {
   "metadata": {
    "ExecuteTime": {
     "end_time": "2024-05-15T19:15:26.884878Z",
     "start_time": "2024-05-15T19:15:26.872780Z"
    }
   },
   "cell_type": "code",
   "source": [
    "import pandas as pd \n",
    "\n",
    "df = pd.read_csv('KNN.csv', sep=';', decimal=',')\n",
    "\n",
    "print(df.iloc[:, :3].head(4))\n",
    "\n"
   ],
   "id": "93bf08549d7493e9",
   "outputs": [
    {
     "name": "stdout",
     "output_type": "stream",
     "text": [
      "   Numero Paciente  DAU - P.A. Sistólica  DAU - P.A. Diastólica\n",
      "0                1                   NaN                    NaN\n",
      "1                2                 176.0                   86.0\n",
      "2                3                 135.0                   93.0\n",
      "3                4                 122.0                   70.0\n"
     ]
    }
   ],
   "execution_count": 7
  },
  {
   "metadata": {},
   "cell_type": "code",
   "outputs": [],
   "execution_count": null,
   "source": "",
   "id": "65018be34ef10a35"
  }
 ],
 "metadata": {
  "kernelspec": {
   "display_name": "Python 3",
   "language": "python",
   "name": "python3"
  },
  "language_info": {
   "codemirror_mode": {
    "name": "ipython",
    "version": 2
   },
   "file_extension": ".py",
   "mimetype": "text/x-python",
   "name": "python",
   "nbconvert_exporter": "python",
   "pygments_lexer": "ipython2",
   "version": "2.7.6"
  }
 },
 "nbformat": 4,
 "nbformat_minor": 5
}
